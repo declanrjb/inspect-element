{
 "cells": [
  {
   "cell_type": "raw",
   "id": "935c1c01",
   "metadata": {},
   "source": [
    "---\n",
    "title: \"Browser Automation\"\n",
    "pagetitle: \"Browser Automation\"\n",
    "description-meta: \"Introduction, case studies, and exercises for automating browsers.\"\n",
    "description-title: \"Introduction, case studies, and exercises for automating browsers.\"\n",
    "author: \"Piotr Sapiezynski and Leon Yin\"\n",
    "author-meta: Piotr Sapiezynski and Leon Yin\"\n",
    "date: \"06-11-2023\"\n",
    "date-modified: \"07-09-2024\"\n",
    "execute: \n",
    "  enabled: false\n",
    "keywords: data collection, web scraping, browser automation, algorithm audits, personalization\n",
    "twitter-card:\n",
    "  title: Browser Automation\n",
    "  description: Introduction, case studies, and exercises for automating browsers.\n",
    "  image: assets/inspect-element-logo.jpg\n",
    "open-graph:\n",
    "  title: Browser Automation\n",
    "  description: Introduction, case studies, and exercises for automating browsers.\n",
    "  locale: us_EN\n",
    "  site-name: Inspect Element\n",
    "  image: assets/inspect-element-logo.jpg\n",
    "href: browser_automation\n",
    "---"
   ]
  },
  {
   "cell_type": "code",
   "execution_count": 1,
   "id": "0b1cac78",
   "metadata": {},
   "outputs": [
    {
     "data": {
      "text/markdown": [
       "\n",
       "<a type=\"button\" class=\"btn btn-outline-primary btn-sm\" target=\"_blank\" href=\"https://inspectelement.org/browser_automation\">📖 Read online</a>\n",
       "<a type=\"button\" class=\"btn btn-outline-primary btn-sm\" target=\"_blank\" href=\"https://github.com/yinleon/inspect-element/blob/main/browser_automation.ipynb\">⚙️ GitHub</a>\n",
       "<a type=\"button\" class=\"btn btn-outline-primary btn-sm\" target=\"_self\" href=\"#citation\">🏛 Citation</a>\n",
       "<br>\n"
      ],
      "text/plain": [
       "<IPython.core.display.Markdown object>"
      ]
     },
     "metadata": {},
     "output_type": "display_data"
    }
   ],
   "source": [
    "#| echo: false\n",
    "from utils import build_buttons\n",
    "from importlib import reload\n",
    "import utils\n",
    "reload(utils)\n",
    "utils.build_buttons(link= 'browser_automation', \n",
    "                    github= 'https://github.com/yinleon/inspect-element/blob/main/browser_automation.ipynb',\n",
    "                    colab = False,\n",
    "                    citation= True)"
   ]
  },
  {
   "cell_type": "markdown",
   "id": "f47810f1",
   "metadata": {},
   "source": [
    "Browser automation is a fundamental web scraping technique for building your own dataset.\n",
    "\n",
    "It is essential for investigating personalization, working with rendered elements, and waiting for scripts and code to execute on a web page.\n",
    "\n",
    "However, browser automation can be resource intensive and slow compared to other data collection approaches.\n",
    "\n",
    "👉[Click here to jump to the Playwright tutorial](#tutorial)."
   ]
  },
  {
   "cell_type": "markdown",
   "id": "3ba5c004",
   "metadata": {},
   "source": [
    "# Intro\n",
    "\n",
    "If you’ve tried to buy concert tickets to a popular act lately, you’ve probably watched in horror as the blue “available” seats evaporate before your eyes the instant tickets are released. Part of that may be pure ✨star power✨, but more than likely, bots were programmed to buy tickets to be resold at a premium.\n",
    "\n",
    "These bots are programmed to act like an eager fan: waiting in the queue, selecting a seat, and paying for the show. These tasks can all be executed using browser automation.\n",
    "\n",
    "**Browser automation** is used to programmatically interact with web applications. \n",
    "\n",
    "The most frequent use case for browser automation is to run tests on websites by simulating user behavior (mouse clicks, scrolling, and filling out forms). This is routine and invisible work that you wouldn’t remember, unlike seeing your dream of crowd surfing with your favorite musician disappear thanks to ticket-buying bots.\n",
    "\n",
    "But browser automation has another use, one which _may_ make your dreams come true: web scraping.\n",
    "\n",
    "Browser automation isn’t always the best solution for building a dataset, but it is necessary when you need to:\n",
    "\n",
    "1. **Analyze rendered HTML**: see what's on a website as a user would.\n",
    "2. **Simulate user behavior**: experiment with personalization and experience a website as a user would.\n",
    "3. **Trigger event execution**: retrieve responses to JavaScript or [network requests](/apis.html) following an action.\n",
    "\n",
    "These reasons are often interrelated. We will walk through case studies (below) that highlight at least one of these strengths, as well as why browser automation was a necessary choice.\n",
    "\n",
    "Some popular browser automation tools are [Puppeteer](https://pptr.dev/), [Playwright](https://playwright.dev/), and [Selenium](https://www.selenium.dev/documentation/webdriver/elements/). \n",
    "\n",
    "## Headless Browsing\n",
    "\n",
    "Browser automation can be executed in a \"headless\" state by some tools.\n",
    "\n",
    "This doesn't mean that the browser is a ghost or anything like that, it just means that the _user interface_ is not visible.\n",
    "\n",
    "One benefit of headless browsing is that it is less [resource intensive](/apis.html#case-study-on-scalability-collecting-internet-plans), however there is no visibility into what the browser is doing, making headless scrapers difficult to debug.\n",
    "\n",
    "Luckily, some browser automation tools (such as Playwright) allow you to [toggle headless browsing](https://playwright.dev/python/docs/api/class-browsertype#browser-type-launch) on and off. Other tools, such as Puppeteer only allow you to use headless browsing.\n",
    "\n",
    "If you’re new to browser automation, we suggest not using headless browsing off the bat. Instead try headed Playwright, which is exactly what we’ll do in the [tutorial](#tutorial) below."
   ]
  },
  {
   "cell_type": "markdown",
   "id": "c2c689ea",
   "metadata": {},
   "source": [
    "<figure>\n",
    "<img src=\"assets/browser-automation.gif\" width=100%></video><figcaption align = \"left\" style=\"font-size:80%;\">Using Playwright to automate browsing TikTok's \"For You\" page for food videos.</figcaption>\n",
    "</figure>"
   ]
  },
  {
   "cell_type": "markdown",
   "id": "8ff579f4",
   "metadata": {},
   "source": [
    "# Case Studies\n",
    "## Case Study 1: Google Search\n",
    "In the investigation “[Google the Giant](https://themarkup.org/google-the-giant/2020/07/28/google-search-results-prioritize-google-products-over-competitors),” The Markup wanted to measure how much of a Google Search page is “Google.” Aside from the daunting task of classifying what is \"Google,\" and what is \"not Google,\" the team of two investigative journalists-- Adrianne Jeffries and Leon Yin (a co-author of this section) needed to measure real estate on a web page.\n",
    "\n",
    "The team developed a [targeted staining technique](https://themarkup.org/google-the-giant/2020/07/28/how-we-analyzed-google-search-results-web-assay-parsing-tool) inspired by the life sciences, originally used to highlight the presence of chemicals, compounds, or cancers. \n",
    "\n",
    "<figure>\n",
    "<img src=\"assets/browser0_01_threestep1.png\"\n",
    "    alt=\"https://themarkup.org/google-the-giant/2020/07/28/how-we-analyzed-google-search-results-web-assay-parsing-tool#google-search-flow\" \n",
    "     style=\"width:90%\" \n",
    "    />\n",
    "<figcaption align = \"left\" style=\"font-size:80%;\"> \n",
    "Source: <a href=\"https://themarkup.org/google-the-giant/2020/07/28/how-we-analyzed-google-search-results-web-assay-parsing-tool\">The Markup</a>\n",
    "</figcaption>\n",
    "</figure>\n",
    "\n",
    "The reporters wrote over [68 web parsers](https://github.com/the-markup/investigation-google-search-audit/blob/master/utils/parsers.py) to identify elements on trending Google Search results as \"Google,\" or three other categories. Once an element was identified, they could find the [coordinates](https://developer.mozilla.org/en-US/docs/Web/SVG/Element/rect) of each element along with its corresponding bounding box. Using the categorization and bounding box, The Markup were able to measure how many pixels were allocated to Google properties, as well as where they were placed on a down the page for a mobile phone.\n",
    "\n",
    "<figure>\n",
    "<img src=\"assets/browser0_02_soup1.png\"\n",
    "    alt=\"https://themarkup.org/google-the-giant/2020/07/28/how-we-analyzed-google-search-results-web-assay-parsing-tool#google-search-flow\" \n",
    "     style=\"width:90%\" \n",
    "     / >\n",
    "<figcaption align = \"left\" style=\"font-size:80%;\"> \n",
    "Source: <a href=\"https://themarkup.org/google-the-giant/2020/07/28/how-we-analyzed-google-search-results-web-assay-parsing-tool\">The Markup</a>\n",
    "</figcaption>\n",
    "</figure>\n",
    "\n",
    "Browser automation tools' ability to collect and analyze **rendered HTML pages** can be essential. This is especially the case for search results, since most search results contain modules, carousels, and other non-standardized rows and columns that are more complex than lists.\n",
    "\n",
    "Rendered HTML can be used to analyze the allocation of real estate on a website, which can be a useful metric to gauge self-preferencing and [anti-competitive business practices](https://themarkup.org/amazons-advantage/2021/10/14/amazon-puts-its-own-brands-first-above-better-rated-products) relevant to [antitrust](https://themarkup.org/google-the-giant/2020/07/29/congressman-says-the-markup-investigation-proves-google-has-created-a-walled-garden). Take for example this case study, which was placed above the others because one of this section's co-authors happened to work on it."
   ]
  },
  {
   "cell_type": "markdown",
   "id": "2292b672",
   "metadata": {},
   "source": [
    "## Case Study 2: Deanonymizing Google's Ad Network\n",
    "\n",
    "Google ad sellers offer space on websites like virtual billboards, and are compensated by Google after an ad is shown. However, unlike physical ad sellers, almost all of the ~1.3 million ad sellers on Google are anonymous. To limit transparency further, multiple websites and apps can be monetized by the same seller, and it’s not clear which websites are part of Google’s ad network in the first place. \n",
    "\n",
    "As a result, [advertisers](https://checkmyads.org/branded/google-ads-has-become-a-massive-dark-money-operation/) and the public do not know who is making money from Google ads. Fortunately, watchdog groups, industry analysts, and reporters have developed methods to hold Google accountable for this oversight.\n",
    "\n",
    "The methods boil down to triggering a JavaScript function that sends a request to Google to show an ad on a loaded web page. Importantly, the request reveals the seller ID used to monetize the website displaying the ad, and in doing so, links the seller ID to the website.\n",
    "\n",
    "In 2022, reporters from ProPublica used Playwrite to [automated this process](https://www.propublica.org/article/google-display-ads-piracy-porn-fraud) to visit 7 million websites and deanonymize over 900,000 Google ad sellers. Their investigation found some websites were able to monetize advertisements, despite breaking Google’s policies.\n",
    "\n",
    "ProPublica's investigation used browser automation tools to **trigger event execution** to successfully load ads. Often, this required waiting a page to fully render, scrolling down to potential ad space, and browsing multiple pages. The reporters used a combination of network requests, rendered HTML, and cross-referencing screenshots to confirm that each website monetized ads from Google’s ad network.\n",
    "\n",
    "Browser automation can help you trawl for clues, especially when it comes to looking for specific network requests sent to a central player by many different websites."
   ]
  },
  {
   "cell_type": "markdown",
   "id": "b006db29",
   "metadata": {},
   "source": [
    "## Case Study 3: TikTok Personalization\n",
    "An investigation conducted by the Wall Street Journal, \"[Inside TikTok's Algorithm](https://www.wsj.com/articles/tiktok-algorithm-video-investigation-11626877477)\" found that even when a user does not like, share, or follow any creators, TikTok still personalizes their \"For You\" page based on how long they watch the recommended videos.\n",
    "\n",
    "In particular, the WSJ investigation found that users who watch content related to depression and skip other content are soon presented with mental health content and little else. Importantly, this effect happened even when the users did not explicitly like or share any videos, nor did they follow any creators. \n",
    "\n",
    "You can watch the WSJ's video showing how they mimic user behavior to study the effects of personalization:"
   ]
  },
  {
   "cell_type": "markdown",
   "id": "fd6cc6d9",
   "metadata": {
    "tags": []
   },
   "source": [
    "<figure>\n",
    "<video width=100% controls loop>\n",
    "  <source src=\"assets/wsj_tiktok.mp4\">\n",
    "</video><figcaption align = \"left\" style=\"font-size:80%;\">Source: WSJ</figcaption>\n",
    "</figure>\n"
   ]
  },
  {
   "cell_type": "markdown",
   "id": "43ff2b93",
   "metadata": {},
   "source": [
    "This investigation was possible only after **simulating user behavior** and triggering personalization from TikTok's \"For You\" recommendations."
   ]
  },
  {
   "cell_type": "markdown",
   "id": "b95c954a",
   "metadata": {},
   "source": [
    "# Tutorial\n",
    "In the hands-on tutorial we will attempt to study personalization on TikTok with a mock experiment. \n",
    "\n",
    "We’re going to teach you the basics of browser automation in Playwright, but the techniques we'll discuss could be used to study any other website using any other automation tool.\n",
    "\n",
    "We will try to replicate elements of the WSJ investigation and see if we can trigger a personalized \"For You\" page. Although the WSJ ran their investigation using an Android on a Raspberry Pi, we will try our luck with something you can run locally on a personal computer using browser automation.\n",
    "\n",
    "In this tutorial we'll use Playwright to watch TikTok videos where the description mentions keywords of our choosing, while skipping all others. In doing so, you will learn practical skills such as:\n",
    "\n",
    "* Setting up the automated browser in Python\n",
    "* Finding particular elements on the screen, extracting their content, and interacting with them\n",
    "* Scrolling\n",
    "* Taking screenshots\n",
    "\n",
    "Importantly, we’ll be watching videos with lighter topics than depression (the example chosen in the WSJ investigation.).\n",
    "\n",
    "::: {.callout-tip}\n",
    "#### Pro tip: Minimizing harms\n",
    "When developing an audit or investigation, start with low-stakes themes: both to minimize your exposure to harmful content and to avoid boosting their popularity, unnecessarily.\n",
    ":::"
   ]
  },
  {
   "cell_type": "markdown",
   "id": "922cb96e",
   "metadata": {},
   "source": [
    "## Step 1: Installing playwright\n",
    "Playwright will take care of finding and installing the browser binary that's suitable for your operating system. Such setup is much more straightforward compared to, for example, [Selenium](https://selenium-python.readthedocs.io/), which requires the user to manage the browser versions.\n",
    "\n",
    "The first line below installs the python library, the second line installs all the browser binaries."
   ]
  },
  {
   "cell_type": "code",
   "execution_count": null,
   "id": "90f9e0f6",
   "metadata": {},
   "outputs": [],
   "source": [
    "!pip install playwright\n",
    "!playwright install"
   ]
  },
  {
   "cell_type": "markdown",
   "id": "fedbef26",
   "metadata": {},
   "source": [
    "Let's see if the installation worked correctly! Run the cell below to open a new Firefox window. We're going to use Firefox in this tutorial because Playwright's default browser (Chromium) does not support video playback in TikTok's format.\n"
   ]
  },
  {
   "cell_type": "code",
   "execution_count": null,
   "id": "6dab81f5-25ea-4c60-b006-ee0db507682f",
   "metadata": {},
   "outputs": [],
   "source": [
    "from playwright.async_api import async_playwright\n",
    "\n",
    "# Start the browser\n",
    "playwright = await async_playwright().start()\n",
    "browser = await playwright.firefox.launch(headless=False)\n",
    "\n",
    "# Create a new browser window\n",
    "page = await browser.new_page()\n",
    "\n",
    "# Open the default tiktok For You page\n",
    "await page.goto(\"https://www.tiktok.com/foryou\")"
   ]
  },
  {
   "cell_type": "markdown",
   "id": "c4301811",
   "metadata": {},
   "source": [
    "If everything works fine and you have the browser with TikTok open, our setup is complete!\n",
    "\n",
    "Unfortunately, depending on your system this setup might not work:\n",
    "* It will not work at all in Google Colab - you need to run this on your own machine\n",
    "* It might not work on a Windows machine. If you're using Windows, you will need to downgrade your `ipykernel` to a version that supported Playwright. Uncomment the next code cell, then restart this notebook and try running the cell above again:"
   ]
  },
  {
   "cell_type": "code",
   "execution_count": null,
   "id": "d55631d7",
   "metadata": {},
   "outputs": [],
   "source": [
    "## Only uncomment and run the next line if you're using windows and the cell above did not give you an open browser window.\n",
    "#!pip install ipykernel==6.28.0"
   ]
  },
  {
   "cell_type": "markdown",
   "id": "192072ed",
   "metadata": {},
   "source": [
    "## Step 2: Finding elements on page and interacting with them\n",
    "\n",
    "We will perform our mock experiment without logging in (but we will also learn how to create multiple accounts and how to log in later).\n",
    "\n",
    "Press the arrow down button on your keyboard a few times until a dialog pops up asking you do log in:\n",
    "\n",
    "![](assets/browser1_02_tiktok1.png \"tiktok main page\")\n",
    "\n",
    "Instead of logging in, our first interaction will be to click the \"Continue as guest\" button.\n",
    "\n",
    "Playwright helps with this process tremendously using a tool called [Locators](https://playwright.dev/python/docs/locators).\n",
    "We know what the button says, so we can use the [.get_by_text() locator](https://playwright.dev/python/docs/api/class-page#page-get-by-text):"
   ]
  },
  {
   "cell_type": "code",
   "execution_count": null,
   "id": "16502655",
   "metadata": {},
   "outputs": [],
   "source": [
    "await page.get_by_text(\"Continue as guest\").click()"
   ]
  },
  {
   "cell_type": "markdown",
   "id": "022e501b",
   "metadata": {},
   "source": [
    "If playwright successfully finds the button with the text you specified, it will be clicked. However, if Playwright **does not** find the element-- for example because the element hasn't loaded yet, or you mispelled the text, you will get a `TimeoutError`. \n",
    "\n",
    "This is because Playwright automatically waits a certain period for this element to appear on screen, by default 30,000 miliseconds (30 seconds). You can specify a different timeout as an argument to `.click()`, for example 1,000 miliseconds (1 second):\n",
    "```python\n",
    "await page.get_by_text(\"Continue as guest\").click(timeout = 1000)\n",
    "```"
   ]
  },
  {
   "cell_type": "markdown",
   "id": "0a490ca4",
   "metadata": {},
   "source": [
    "Did you notice a change on the page? Congratulations! You just automated the browser to click something."
   ]
  },
  {
   "cell_type": "markdown",
   "id": "d8df81f3",
   "metadata": {},
   "source": [
    "## Step 4: Scrolling\n",
    "\n",
    "We now have a browser instance open and displaying the For You page. Let's scroll through the videos.\n",
    "\n",
    "If you are a *real person* who (for whatever reason) visits TikTok on their computer, you could press the down key the keyboard to see new videos. We will do that programmatically instead:"
   ]
  },
  {
   "cell_type": "code",
   "execution_count": null,
   "id": "abe85668",
   "metadata": {},
   "outputs": [],
   "source": [
    "await page.keyboard.press(\"ArrowDown\")"
   ]
  },
  {
   "cell_type": "markdown",
   "id": "72a9b726",
   "metadata": {},
   "source": [
    "When you run the cell above you will see that your browser scrolls down to the next video. You just automated scrolling!"
   ]
  },
  {
   "cell_type": "markdown",
   "id": "c5988f8b",
   "metadata": {},
   "source": [
    "## Step 5: Finding TikTok videos on the page\n",
    "\n",
    "Now that the site loaded and you can browse it, let's find all the TikTok videos that are displayed and extract the information (called metadata) from each of them.\n",
    "\n",
    "Remember, when search for the \"Continue as guest\" button, we used a convenient locator. According to the [Documentation](https://playwright.dev/python/docs/locators), these are the available locators:\n",
    "* page.get_by_role() to locate by explicit and implicit accessibility attributes.\n",
    "* page.get_by_text() to locate by text content.\n",
    "* page.get_by_label() to locate a form control by associated label's text.\n",
    "* page.get_by_placeholder() to locate an input by placeholder.\n",
    "* page.get_by_alt_text() to locate an element, usually image, by its text alternative.\n",
    "* page.get_by_title() to locate an element by its title attribute.\n",
    "\n",
    "Whenever it makes sense to use these recommended locators, you should absolutely do that. This way you will make your code more readable (the name of each function describes well what it does!) and more reliable (it will continue working even if the site developers change some details in the code).\n",
    "\n",
    "Unfortunately in our case, none of these will work. We want to find the elements that contains all video related information and we will have to go lower level to achieve that. That's how we'll do it:\n",
    "\n",
    "1. Right click on the white space around a TikTok video and choose \"Inspect\".\n",
    "![Inspect Element](assets/browser1_05_inspect_tiktok_a1.png)\n",
    "1. Hover your mouse over the surrounding `<div>` elements and observe the highlighted elements on the page to see which ones correspond to each TikTok video.\n",
    "![Inspect Element](assets/browser1_05_inspect_tiktok_b1.png)\n",
    "1. You will see that each video is in a separate `<div>` container but each of these containers has the same `data-e2e` attribute with the value of `recommend-list-item-container`.\n",
    "1. We can now use this to find all videos on page (you can search by attribute value using square brackets):"
   ]
  },
  {
   "cell_type": "code",
   "execution_count": null,
   "id": "f6e19d63",
   "metadata": {},
   "outputs": [],
   "source": [
    "videos = await page.locator('[data-e2e=\"recommend-list-item-container\"]').all()"
   ]
  },
  {
   "cell_type": "markdown",
   "id": "b3c9177e",
   "metadata": {},
   "source": [
    "When we searched for the \"Continue as guest\" button we didn't need to use the `.all()` method because we were only expecting one element to match our locator.\n",
    "\n",
    "Now we're trying to find all videos on page, so we use the `locator().all()` function - it returns the complete list of elements that match the locator."
   ]
  },
  {
   "cell_type": "code",
   "execution_count": null,
   "id": "b48701be",
   "metadata": {},
   "outputs": [],
   "source": [
    "videos"
   ]
  },
  {
   "cell_type": "markdown",
   "id": "3931f75c",
   "metadata": {},
   "source": [
    "## Step 6: Parsing TikTok metadata\n",
    "Now that we found all the TikTok videos on the page, let's extract the description from each - this is how we will decide whether to watch the video, or to skip it. The process of extracting a specific field from a webpage is \"parsing\".\n",
    "\n",
    "1. Pick any description, right click, \"Inspect\". \n",
    "1. Let's locate the `<div>` that contains the whole description (including any hashtags) and make note of its `data-e2s` attribute.\n",
    "1. Now let's write the code that extracts the description from a single video (note that you can get the text content of any element by calling `locator().inner_text`)"
   ]
  },
  {
   "cell_type": "code",
   "execution_count": null,
   "id": "9a0b7e79",
   "metadata": {},
   "outputs": [],
   "source": [
    "for video in videos:\n",
    "    print(await video.locator('[data-e2e=\"video-desc\"]').inner_text())"
   ]
  },
  {
   "cell_type": "markdown",
   "id": "0e09cc34",
   "metadata": {},
   "source": [
    "::: {.callout-note}\n",
    "Note: We previously searched for elements using `page.locator()` and `page.locator().all()`. That allowed us to search the whole page. Notice that here, instead of `page.locator()`, we're using a locator with element: `video.locator()`. this way we can search for elements **within an element**, rather than on the whole page.\n",
    ":::"
   ]
  },
  {
   "cell_type": "markdown",
   "id": "7a494899",
   "metadata": {},
   "source": [
    "## Step 7: Finding the TikTok video that's currently playing\n",
    "We know how to scroll to the next video, and we know how to find all videos that are loaded.\n",
    "At this point we could either:\n",
    "\n",
    "a. Assume that at the beginning, the 0th video is playing, and then every time we press arrow down, the next video is being displayed<br>\n",
    "b. Or, assume that the arrow down does not always work and each time verify which video is actually playing\n",
    "\n",
    "The problem with the first approach is that even if scrolling fails just once, our experiment will be compromised (after it happens we will be watching and skipping different videos that our script tells us). This is why we will go with the second approach and verify which video is actually playing. Back to our favorite tool- inspect element!\n",
    "\n",
    "When you right click on the playing video, you will see that instead of our familiar UI we get a custom TikTok menu, so that won't work. Try right-clicking on the description of the video instead, then hovering over different elements in the inspector and expanding the one that highlights the video in the browser. Dig deep until you get to the `div` that only contains the video. \n",
    "\n",
    "Still in the inspector try looking at the video below. You will see that the `div` that contains the video is missing and there is no element with the tag name `video`. That's how we can find if the video is currently playing - its `div` will contain the `video` element that we can find by `TAG_NAME`:"
   ]
  },
  {
   "cell_type": "code",
   "execution_count": null,
   "id": "9d1e3cd6",
   "metadata": {},
   "outputs": [],
   "source": [
    "for video in videos:\n",
    "    # let's get the description of each video using the method we already know\n",
    "    description = await video.locator('[data-e2e=\"video-desc\"]').inner_text()\n",
    "\n",
    "    # now let's count all the <video> elements within. If there is one, that's the one that's playing!\n",
    "    if await video.locator('video').count() > 0:\n",
    "        playing = 'playing'\n",
    "    else:\n",
    "        playing = 'not playing'\n",
    "    print(playing, description)"
   ]
  },
  {
   "cell_type": "markdown",
   "id": "ccf69708",
   "metadata": {},
   "source": [
    "## Step 8: Taking screenshots and saving page source\n",
    "The presentation of your results might be more compelling, when its accompanied by screenshots, rather than just data. Playwright allows you to take screenshots of the whole screen, or just a particular element (though the latter is a bit cumbersome):"
   ]
  },
  {
   "cell_type": "code",
   "execution_count": null,
   "id": "07951510",
   "metadata": {},
   "outputs": [],
   "source": [
    "# take a screenshot of the whole browser\n",
    "await page.screenshot(path=\"screenshot.png\")\n",
    "\n",
    "# take a screenshot of just one video\n",
    "screenshot = await video.screenshot(path=\"video_screenshot.png\")"
   ]
  },
  {
   "cell_type": "markdown",
   "id": "361d31df",
   "metadata": {},
   "source": [
    "In the spirit of _bringing receipts_, you can also save the entire webpage to parse it later."
   ]
  },
  {
   "cell_type": "code",
   "execution_count": null,
   "id": "dc37d600",
   "metadata": {},
   "outputs": [],
   "source": [
    "# save the source of the entire page\n",
    "page_html = await page.content()\n",
    "with open('webpage.html', 'w') as output:\n",
    "    output.write(page_html)"
   ]
  },
  {
   "cell_type": "markdown",
   "id": "990753f7",
   "metadata": {},
   "source": [
    "::: {.callout-tip}\n",
    "#### Pro tip: Keep these records to sanity check your results\n",
    "Taking a screenshot and saving the page source is a useful practice for checking your work. Use the two to cross-reference what was visible in the browser and whatever data you end up extracting during the parsing step.\n",
    ":::\n",
    "\n",
    "Let's close the browser for now, and kick this workflow up a notch."
   ]
  },
  {
   "cell_type": "code",
   "execution_count": null,
   "id": "bd1f4675",
   "metadata": {},
   "outputs": [],
   "source": [
    "await browser.close()"
   ]
  },
  {
   "cell_type": "markdown",
   "id": "6bbfaaa2",
   "metadata": {},
   "source": [
    "## Step 9: Putting it all together\n",
    "At this point, we can read the description of TikTok videos and navigate the \"For You\" page. \n",
    "\n",
    "That's most of the setup we need to try our mock experiment:<br>\n",
    "let's watch all TikTok videos that mention food in the description and skip videos that do not mention food.\n",
    "\n",
    "After one hundred videos, we will see whether we are served videos from FoodTok more frequently than other topics.\n",
    "\n",
    "::: {.callout-tip}\n",
    "#### Pro tip: Use functions!\n",
    "So far we wrote code to open the browser, close the dialog, and find videos as separate cells in the notebook. We _could_ copy that code over here to use it, but it will be much easier to understand and maintain the code if we write clean, well-documented functions with descriptive names.\n",
    ":::"
   ]
  },
  {
   "cell_type": "code",
   "execution_count": null,
   "id": "9405d23e",
   "metadata": {},
   "outputs": [],
   "source": [
    "from playwright.async_api import async_playwright, expect\n",
    "\n",
    "async def open_browser():\n",
    "    \"\"\"\n",
    "    Starts the automated browser and opens a new window\n",
    "    \"\"\"\n",
    "    \n",
    "    # Start the browser\n",
    "    playwright = await async_playwright().start()\n",
    "    browser = await playwright.firefox.launch(headless=False)\n",
    "\n",
    "    # Create a new browser window\n",
    "    page = await browser.new_page()\n",
    "\n",
    "\n",
    "    return browser, page\n",
    "\n",
    "\n",
    "async def close_login_dialog(page):\n",
    "    \"\"\"\n",
    "    Checks if the login dialog is present. If so, it \"Continues as guest\"\n",
    "    \"\"\"\n",
    "\n",
    "    # how many elements with \"Continue as guest\" do we see?\n",
    "    if await page.get_by_text('Continue as guest').count() > 0:\n",
    "        # there is one, let's click it!\n",
    "        await page.get_by_text('Continue as guest').click()\n",
    "    else:\n",
    "        # there is none, we can continue scrolling\n",
    "        return\n",
    "    \n",
    "async def find_videos(page):\n",
    "    \"\"\"\n",
    "    Finds all tiktoks loaded in the browser\n",
    "    \"\"\"\n",
    "    videos = await page.locator('[data-e2e=\"recommend-list-item-container\"]').all()\n",
    "    return videos\n",
    "\n",
    "async def get_description(video):\n",
    "    \"\"\"\n",
    "    Extracts the video description along with any hashtags\n",
    "    \"\"\"\n",
    "    try:\n",
    "        description = await video.locator('[data-e2e=\"video-desc\"]').inner_text()\n",
    "    except:\n",
    "        # if the description is missing, just get any text from the video\n",
    "        description = await video.inner_text()\n",
    "    return description\n",
    "\n",
    "async def get_current(videos):\n",
    "    \"\"\"\n",
    "    Given the list of videos it returns the one that's currently playing\n",
    "    \"\"\"\n",
    "    for video in videos:\n",
    "        if await video.locator('video').count() > 0:\n",
    "            # this one has the video, we can return it and that ends the function.\n",
    "            return video\n",
    "    \n",
    "    return None\n",
    "\n",
    "def is_target_video(description, keywords):\n",
    "    \"\"\"\n",
    "    Looks for keywords in the given description. \n",
    "    NOTE: only looks for the substring IE partial match is enough.\n",
    "    Returns `True` if there are any or `False` when there are none.\n",
    "    \"\"\"\n",
    "    # check in any of the keywords is in the description\n",
    "    for keyword in keywords:\n",
    "        if keyword in description:\n",
    "            # we have a video of interest, let's watch it \n",
    "            return True\n",
    "    \n",
    "    # if we're still here it means no keywords were found\n",
    "    return False\n",
    "\n",
    "async def screenshot(video, filename=\"screenshot.png\"):\n",
    "    \"\"\"\n",
    "    Saves a screenshot of a given video to a specified file\n",
    "    \"\"\"\n",
    "    screenshot = await video.screenshot(path = filename)\n",
    "    \n",
    "async def save_source(page, filename=\"screenshot.html\"):\n",
    "    \"\"\"\n",
    "    Saves the browser HTML to a file\n",
    "    \"\"\"\n",
    "    page_html = await page.content()\n",
    "    with open('webpage.html', 'w') as output:\n",
    "        output.write(page_html)"
   ]
  },
  {
   "cell_type": "markdown",
   "id": "b560caef",
   "metadata": {},
   "source": [
    "Ok, with that out of the way, let's set up our first data collection.\n",
    "\n",
    "First, let's make a directory to save screenshots. We will save screenshots here whenever we find a video related to food."
   ]
  },
  {
   "cell_type": "code",
   "execution_count": null,
   "id": "89e12185",
   "metadata": {},
   "outputs": [],
   "source": [
    "import os\n",
    "\n",
    "os.makedirs('data/screenshots/', exist_ok=True)\n",
    "\n"
   ]
  },
  {
   "cell_type": "code",
   "execution_count": null,
   "id": "681ae5c9-a29d-49d1-8c30-f2f5b053b92b",
   "metadata": {},
   "outputs": [],
   "source": [
    "browser, page = await open_browser()\n",
    "\n",
    "# Open the default tiktok For You page\n",
    "await page.goto(\"https://www.tiktok.com/foryou\")\n",
    "\n",
    "await expect(page.locator('video').first).to_be_visible()"
   ]
  },
  {
   "cell_type": "code",
   "execution_count": null,
   "id": "0fdff08c",
   "metadata": {},
   "outputs": [],
   "source": [
    "import time\n",
    "\n",
    "# if the description has any one these words, we will watch the video\n",
    "keywords = ['food', 'dish', 'cook', 'pizza', 'recipe', 'mukbang', 'dinner', 'foodie', 'restaurant']\n",
    "\n",
    "# this is where will we store decisions we take\n",
    "decisions = []\n",
    "\n",
    "# open a browser, and go to TikTok's For You page.\n",
    "browser, page = await open_browser()\n",
    "\n",
    "# Open the default tiktok For You page\n",
    "await page.goto(\"https://www.tiktok.com/foryou\")\n",
    "\n",
    "# Let's wait for the first video to load before we start scrolling\n",
    "await expect(page.locator('video').first).to_be_visible()\n",
    "\n",
    "for tiktok_index in range(0, 100):\n",
    "    # make sure to dismiss the login window\n",
    "    await close_login_dialog(page)\n",
    "    \n",
    "    # get all videos\n",
    "    tiktoks = await find_videos(page)\n",
    "    \n",
    "    # the current tiktok is the one that's currently showing the video player\n",
    "    current_video = await get_current(tiktoks)\n",
    "    \n",
    "    if current_video is None:\n",
    "        print('no more videos')\n",
    "        break\n",
    "              \n",
    "    # read the description of the video\n",
    "    description = await get_description(current_video)\n",
    "    \n",
    "    # categorize the video as relevant to `keywords` or not.\n",
    "    contains_keyword = is_target_video(description, keywords)\n",
    "    decisions.append(contains_keyword)\n",
    "            \n",
    "    print(tiktok_index, contains_keyword, description)\n",
    "    \n",
    "    if contains_keyword:\n",
    "        # we have a video of interest, let's take a screenshot\n",
    "        ## here we declare the files we'll save. they're named according to their order.\n",
    "        fn_screenshot = f\"data/screenshots/screenshot_{tiktok_index:05}.png\"\n",
    "        fn_page_source = fn_screenshot.replace('.png', '.html')\n",
    "        await screenshot(current_video, fn_screenshot)\n",
    "        await save_source(page, fn_page_source)\n",
    "        # and now watch it for 30 seconds\n",
    "        await page.wait_for_timeout(30000)\n",
    "    \n",
    "    # move to the next video\n",
    "    await page.keyboard.press(\"ArrowDown\")\n",
    "    await page.wait_for_timeout(1000)\n",
    "    \n",
    "    \n",
    "await browser.close()"
   ]
  },
  {
   "cell_type": "markdown",
   "id": "2c9c72f4",
   "metadata": {},
   "source": [
    "::: {.callout-tip}\n",
    "#### Pro tip: Be careful about keywords\n",
    "For experiments that use `keywords`, the choices we make will directly shape our results. In the field, you can mitigate your own predisposition and biases by working with [domain experts to curate keyword lists](https://themarkup.org/google-the-giant/2021/04/09/how-we-discovered-googles-social-justice-blocklist-for-youtube-ad-placements#sourcing-social-justice-keywords).\n",
    ":::"
   ]
  },
  {
   "cell_type": "code",
   "execution_count": null,
   "id": "8b45827f",
   "metadata": {},
   "outputs": [],
   "source": [
    "import matplotlib.pyplot as plt\n",
    "plt.plot(decisions, ds='steps')\n",
    "plt.xlabel('Video Number')\n",
    "plt.ylabel('Watched')\n",
    "plt.yticks([0, 1], ['False', 'True']);"
   ]
  },
  {
   "cell_type": "markdown",
   "id": "b2b28c2d",
   "metadata": {},
   "source": [
    "The figure above shows when during our 100-videos-long session we were recommended a video about food (from `keywords`). The x-axis is chronological, the 1st video displayed is on the left, and the most recent video is on the right. The y-axis is \"yes\" or \"no,\" depending on if the video was related to food. "
   ]
  },
  {
   "cell_type": "markdown",
   "id": "01b7a95a",
   "metadata": {},
   "source": [
    "### Results\n",
    "\n",
    "You can look back to the `data/screenshots` folder we created to check whether the videos we watched appear to be food-related. \n",
    "\n",
    "If the feed was indeed increasingly filled with food videos, we would see more lines towards the right of the graph. At least here it does not appear to be the case. \n",
    "\n",
    "Does it mean that the WSJ investigation was wrong, or that TikTok stopped personalizing content? \n",
    "\n",
    "The answer is \"No,\" for several reasons: \n",
    "\n",
    "1. We only scrolled through 100 videos, this is likely too few to observe any effects. Try re-running with a higher number!<br>\n",
    "2. When studying personalization you should use an account per profile and make sure you're logged in, rather than relying on a fresh browser. So, instead of closing the login dialog, try actually logging in! You know how to find and click buttons, and [this is how you put text in text fields](https://www.geeksforgeeks.org/send_keys-element-method-selenium-python/).<br>\n",
    "3. When you're not logged in, you will be presented with content from all over the world, in all languages. If you filtered `keywords` in just one language, you will miss plenty of target content in other languages.<br>\n",
    "4. You should always have a baseline to compare to. In this case, you should probably run two accounts at the same time - one that watches food videos and one that doesn't. Then you compare the prevalence of food videos between these two.<br>\n",
    "5. The WSJ investigation was run on the mobile app rather than on a desktop browser. Perhaps TikTok's personalization works differently based on device or operating system."
   ]
  },
  {
   "cell_type": "markdown",
   "id": "e94ac133",
   "metadata": {},
   "source": [
    "## Advanced Usage\n",
    "\n",
    "Above we highlighted some ideas to make your investigation or study more robust, some are methodological choices, but others are technical.\n",
    "\n",
    "There are some advanced use-cases and tasks you can perform with browser automation that include\n",
    "\n",
    "- Authentication using the browser and storing cookies for later use.<br>\n",
    "- Intercept background [API](/apis.html) calls and combine browser automation with API calls. See [`selenium-wire`](https://pypi.org/project/selenium-wire/) as an example.<br>\n",
    "- Signing in with one or more email addresses.<br>\n",
    "\n",
    "We may cover some or all of these topics in subsequent tutorials, but you should feel free to experiment.\n",
    "\n",
    "Let us know what you're interested in learning more about!"
   ]
  },
  {
   "cell_type": "markdown",
   "id": "758b6226",
   "metadata": {},
   "source": [
    "# Related Readings\n",
    "\n",
    "More tutorials on the same subject:\n",
    "\n",
    "- \"[Using real browsers](https://scrapism.lav.io/using-real-browsers/)\" - Sam Lavigne\n",
    "- \"[Scraping with Playwright - IRE 2024](https://github.com/jsoma/ire24-scraping?tab=readme-ov-file)\" - Jonathan Soma\n",
    "\n",
    "Notable investigations, audits, and tools using browser automation:\n",
    "\n",
    "- \"[Blacklight](https://themarkup.org/blacklight)\" - a investigative tool by Surya Mattu<br>\n",
    "- \"[TheirTube](https://www.their.tube/)\" - an art and advocacy project by Tomo Kihara<br>\n",
    "- \"[Worlds Apart](https://www.nrk.no/osloogviken/xl/tiktok-doesn_t-show-the-war-in-ukraine-to-russian-users-1.15921522)\" - a TikTok investigation by Henrik Bøe and Christian Nicolai Bjørke<br>\n",
    "- \"[WebSearcher](https://github.com/gitronald/WebSearcher)\" - A Python package by Ronald E. Robertson<br>\n",
    "- \"[Googling for Abortion](https://journalqd.org/article/view/2752)\" - Yelena Mejova, Tatiana Gracyk, and Ronald E. Robertson<br>\n",
    "- \"[webXray](https://webxray.org/)\" - A website forensics tool by Tim Liebert<br>\n",
    "- \"[OpenWPM](https://github.com/itdelatrisu/OpenWPM)\" - A privacy-measurement tool\n",
    "\n",
    "Please reach out with more examples to add."
   ]
  },
  {
   "cell_type": "markdown",
   "id": "0a3fea01",
   "metadata": {},
   "source": [
    "# Citation\n",
    "\n",
    "To cite this chapter, please use the following BibTex entry:\n",
    "\n",
    "<pre>\n",
    "@incollection{inspect2023browser,\n",
    "  author    = {Sapiezynski, Piotr and Yin, Leon},\n",
    "  title     = {Browser Automation},\n",
    "  booktitle = {Inspect Element: A practitioner's guide to auditing algorithms and hypothesis-driven investigations},\n",
    "  year      = {2023},\n",
    "  editor    = {Yin, Leon and Sapiezynski, Piotr and Raji, Inioluwa Deborah},\n",
    "  note      = {\\url{https://inspectelement.org}}\n",
    "}\n",
    "</pre>\n",
    "\n",
    "## Acknowledgements\n",
    "\n",
    "Thank you to Ruth Talbot and John West for answering questions about their two respective investigations."
   ]
  },
  {
   "cell_type": "code",
   "execution_count": null,
   "id": "fe7eff69",
   "metadata": {},
   "outputs": [],
   "source": []
  }
 ],
 "metadata": {
  "kernelspec": {
   "display_name": "Python 3 (ipykernel)",
   "language": "python",
   "name": "python3"
  },
  "language_info": {
   "codemirror_mode": {
    "name": "ipython",
    "version": 3
   },
   "file_extension": ".py",
   "mimetype": "text/x-python",
   "name": "python",
   "nbconvert_exporter": "python",
   "pygments_lexer": "ipython3",
   "version": "3.10.2"
  }
 },
 "nbformat": 4,
 "nbformat_minor": 5
}
