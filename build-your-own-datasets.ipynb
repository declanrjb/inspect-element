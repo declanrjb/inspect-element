{
 "cells": [
  {
   "cell_type": "markdown",
   "id": "f0cea4b6",
   "metadata": {},
   "source": [
    "---\n",
    "title: \"Build your own datasets\"\n",
    "date-modified: \"06-16-2023\"\n",
    "href: data\n",
    "---"
   ]
  },
  {
   "cell_type": "markdown",
   "id": "859d0d38",
   "metadata": {},
   "source": [
    "\"Finding stories in datasets\" is a misnomer in data journalism. Most open source datasets were created with a use case in mind. Seldom is that original use case the same as a hypothesis you'll want to test, let alone a source that could lead to calls of accountability.\n",
    "\n",
    "The same can be said for the academy. Analyzing existing datasets will not lead to drastically different conclusions, and can disproportionately inflate the importance of a topic, just because the data is readily available.\n",
    "\n",
    "Instead, you can build your own datasets by synthesizing publicly available data and records obtained from records requests.\n",
    "\n",
    "\n",
    "## Public data sources explained\n",
    "\n",
    "There's a difference between \"open data\" and \"publicly available data\":\n",
    "\n",
    "- **Open data** is typically already combined into a spreadsheet or database. Additionally, open data is usually documented, and easily available for the public to use. See for example, [climate data from NOAA](https://www.ncei.noaa.gov/cdo-web/), or the U.S. Census Bureau's [American Community Survey](https://www.census.gov/programs-surveys/acs/technical-documentation/code-lists.html).\n",
    "\n",
    "- **Publicly available data** lives on the open web, but has yet to be synthesized into a cohesive data set. It's up to you to collect these data points, responsibly. Search engines and many other technology companies depend on \"crawling\" these sources. \n",
    "\n",
    "At a minimum: only collect data with intention, do not overload websites' servers, and abstain from collecting personally identifiable information without user consent.\n",
    "\n",
    "## What to expect in this section?\n",
    "\n",
    "Publicly available data is a useful tool to audit and investigate technologies and their underlying business practices.\n",
    "\n",
    "The following sections will cover programmatic data collection and best-practices.\n",
    "\n",
    "We'll discuss data collection techniques such as:\n",
    "\n",
    "- [Finding undocumented APIs](/apis.html)<br>\n",
    "- [Browser automation](/browser_automation.html)<br>\n",
    "- App automation<br>\n",
    "- Parsing HTML and JSON<br>\n",
    "\n",
    "Use these techniques to build datasets that allow you to test original hypotheses, design clear experiments, and understand the limitations that come along with the decisions you make."
   ]
  },
  {
   "cell_type": "markdown",
   "id": "57751192",
   "metadata": {},
   "source": [
    "## Scraping Is Not a Crime\n",
    "\n",
    "Although search engines and data brokers depend on web scraping for their business models, they seldom use that data in the public interest or release data that could be used to hold them accountable. \n",
    "\n",
    "This guide exists to do just that: teach you how to build evidence that leads to accountability. However, know that using data to investigate powerful entities is not without risks. \n",
    "\n",
    "Although the [legal landscape](https://www.eff.org/deeplinks/2022/04/scraping-public-websites-still-isnt-crime-court-appeals-declares) is changing to favor [web scraping in the public interest](https://themarkup.org/news/2020/12/03/why-web-scraping-is-vital-to-democracy), we still see governments and industry titans attempt to shut down accountability efforts. Take for example:\n",
    "\n",
    "- A journalist in Missouri who was called a hacker and threatened prosecution for identifying a flaw that revealed social security numbers of school employees after [inspecting the page source](https://arstechnica.com/tech-policy/2021/10/viewing-website-html-code-is-not-illegal-or-hacking-prof-tells-missouri-gov/).\n",
    "- Academic researchers at NYU received a cease-and-desist notice [for crowdsourcing Political ads from Facebook](https://knightcolumbia.org/content/researchers-nyu-knight-institute-condemn-facebooks-effort-to-squelch-independent-research-about-misinformation).\n",
    "\n",
    "If you're in the United States: know what violates the **Computer Fraud and Abuses Act (CFAA)**, which primarily prohibits unauthorized access to a computer network.\n",
    "\n",
    "This is NOT legal advice. Discuss your intentions and your plan to collect data with your editor and legal counsel (if you're a journalist), or your advisor and ethics board (if you're a researcher). \n",
    "\n",
    "Having institutional support is essential to make sure you are protected, and that your supervisors are well-informed about the risks.\n",
    "<!-- \n",
    "## Aaron Swartz\n",
    "\n",
    "In 2008, activist and engineer Aaron Swartz was investigated by the F.B.I. for [scraping 2.7 million public court records](https://www.aaronswartzday.org/pacer-project-explained/) from PACER and sharing it with the public. Swartz redistributed information that is in the public domain, but hosted by a central entity that charges fees for accessing that public information.\n",
    "\n",
    "The bureau concluded that Swartz did not violate any laws, but three years later, Swartz was arrested and charged for mass-downloading academic articles from JSTOR using a laptop stored in an MIT closet.\n",
    "\n",
    "Swartz prosecution would have a chilling effect on web scraping in the academy and in the public interest for years to come. But attitudes are changing slowly, with journalists, researchers, and other public interest technologists receiving more legal and institutional protections to collect publicly available data.\n",
    "\n",
    "You can learn more about Aaron Swartz and the countless contributions he made in the technology and activist space in the documentary “[The Internet’s Own Boy](https://archive.org/details/TheInternetsOwnBoyTheStoryOfAaronSwartz),“ Directed by Brian Knappenberger and on the website [AaronSwartzDay.com](https://www.aaronswartzday.org/about/). -->"
   ]
  },
  {
   "cell_type": "code",
   "execution_count": null,
   "id": "a9de82d2",
   "metadata": {},
   "outputs": [],
   "source": []
  }
 ],
 "metadata": {
  "kernelspec": {
   "display_name": "Python 3",
   "language": "python",
   "name": "python3"
  },
  "language_info": {
   "codemirror_mode": {
    "name": "ipython",
    "version": 3
   },
   "file_extension": ".py",
   "mimetype": "text/x-python",
   "name": "python",
   "nbconvert_exporter": "python",
   "pygments_lexer": "ipython3",
   "version": "3.7.3"
  }
 },
 "nbformat": 4,
 "nbformat_minor": 5
}
