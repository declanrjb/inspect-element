{
 "cells": [
  {
   "cell_type": "markdown",
   "id": "164ee7fa",
   "metadata": {},
   "source": [
    "---\n",
    "title: \"Advanced Usage\"\n",
    "pagetitle: \"Selenium Wire\"\n",
    "description-meta: \"Introduction, case studies, and exercises for automating browsers.\"\n",
    "description-title: \"Introduction, case studies, and exercises for automating browsers.\"\n",
    "author: \"Piotr Sapiezynski and Leon Yin\"\n",
    "author-meta: Piotr Sapiezynski and Leon Yin\"\n",
    "date: \"06-11-2023\"\n",
    "date-modified: \"06-17-2023\"\n",
    "execute: \n",
    "  enabled: false\n",
    "keywords: data collection, web scraping, browser automation, algorithm audits, personalization\n",
    "twitter-card:\n",
    "  title: Browser Automation\n",
    "  description: Introduction, case studies, and exercises for automating browsers.\n",
    "  image: assets/inspect-element-logo.jpg\n",
    "open-graph:\n",
    "  title: Browser Automation\n",
    "  description: Introduction, case studies, and exercises for automating browsers.\n",
    "  locale: us_EN\n",
    "  site-name: Inspect Element\n",
    "  image: assets/inspect-element-logo.jpg\n",
    "href: selenium_wire\n",
    "---"
   ]
  },
  {
   "cell_type": "markdown",
   "id": "75bb9edb",
   "metadata": {},
   "source": [
    "This section will walk through advanced use cases you might run into when using browser automation.\n",
    "\n",
    "1. Intercepting network requests (API calls) while browsing\n",
    "2. "
   ]
  },
  {
   "cell_type": "markdown",
   "id": "3cafe56c",
   "metadata": {},
   "source": [
    "### Requirements.txt\n",
    "\n",
    "Here are the Python packages we'll use to initercept traffic in Selenium.\n",
    "\n",
    "- `selenium-wire` is a package that offers the same functionality of `selenium`, with the added bonus of being able to intercept network traffic. (API requests).<br>\n",
    "- `brotlipy` is a package used to decode compressed responses from servers: aka when the response looks like random characters.<br>\n",
    "- `chromedriver-binary-auto` to help Selenium find the web driver for Chromium.\n",
    "\n",
    "We'll also upgrade a default library `requests`, because older versions of the package will not function property."
   ]
  },
  {
   "cell_type": "code",
   "execution_count": 3,
   "id": "1b1650b9",
   "metadata": {},
   "outputs": [],
   "source": [
    "# !pip install selenium-wire requests chromedriver-binary-auto bropotlipy"
   ]
  },
  {
   "cell_type": "code",
   "execution_count": 2,
   "id": "d0a1df65",
   "metadata": {},
   "outputs": [],
   "source": [
    "# !pip install requests --upgrade"
   ]
  },
  {
   "cell_type": "markdown",
   "id": "411f9d7e",
   "metadata": {},
   "source": [
    "## Intercepting Network Requests in Selenium\n",
    "\n",
    "Selenium-Wire can be used anytime you would use Selenium. All we need to do is change the import from `selenium` to `seleniumwire`. <br>\n",
    "Notice we continue too use `chromedriver_binary` to make our lives easier."
   ]
  },
  {
   "cell_type": "code",
   "execution_count": 40,
   "id": "da075956",
   "metadata": {},
   "outputs": [],
   "source": [
    "from seleniumwire import webdriver\n",
    "import chromedriver_binary\n",
    "\n",
    "driver = webdriver.Chrome()"
   ]
  },
  {
   "cell_type": "markdown",
   "id": "e6a1116d",
   "metadata": {},
   "source": [
    "Ideally, a blank window of Chrome should appear without any error messages. Some M1-series Macbooks run into issues download Selenium. Here's [a potential fix](https://stackoverflow.com/a/74651536/18264897) for that issue."
   ]
  },
  {
   "cell_type": "markdown",
   "id": "03127423",
   "metadata": {},
   "source": [
    "### Visiting a website and triggering requests\n",
    "\n",
    "To demonstrate how to intercept network requests in Selenium, we'll trigger DuckDuckGo's autocomplete in the browser and fetch the network request (undocumented API) running in the background communicating with their servers."
   ]
  },
  {
   "cell_type": "code",
   "execution_count": 41,
   "id": "81481446",
   "metadata": {},
   "outputs": [],
   "source": [
    "# open the duckduckgo website in our automated browser\n",
    "driver.get('https://duckduckgo.com')"
   ]
  },
  {
   "cell_type": "markdown",
   "id": "b908ccf4",
   "metadata": {},
   "source": [
    "Now, manually type \"why are\" in the search box to trigger the autocomplete function.<br>\n",
    "Bonus: do this programmatically.\n",
    "\n",
    "You'll notice this is nearly identical to our [finding undocumented APIs](/apis.html) tutorial.\n",
    "\n",
    "Rather than find the network requests in the `DevTools`, we can view them programmatically here, thanks for Selenium Wire's built-in `requests` attribute to web`driver`."
   ]
  },
  {
   "cell_type": "code",
   "execution_count": 42,
   "id": "8b6e1db5",
   "metadata": {},
   "outputs": [
    {
     "data": {
      "text/plain": [
       "[Request(method='GET', url='https://duckduckgo.com/ac/?q=why+a&kl=wt-wt', headers=[('sec-ch-ua', '\"Google Chrome\";v=\"117\", \"Not;A=Brand\";v=\"8\", \"Chromium\";v=\"117\"'), ('sec-ch-ua-mobile', '?0'), ('user-agent', 'Mozilla/5.0 (Macintosh; Intel Mac OS X 10_15_7) AppleWebKit/537.36 (KHTML, like Gecko) Chrome/117.0.0.0 Safari/537.36'), ('sec-ch-ua-platform', '\"macOS\"'), ('accept', '*/*'), ('sec-fetch-site', 'same-origin'), ('sec-fetch-mode', 'cors'), ('sec-fetch-dest', 'empty'), ('referer', 'https://duckduckgo.com/'), ('accept-encoding', 'gzip, deflate, br'), ('accept-language', 'en-US,en;q=0.9')], body=b''),\n",
       " Request(method='GET', url='https://duckduckgo.com/ac/?q=why+are&kl=wt-wt', headers=[('sec-ch-ua', '\"Google Chrome\";v=\"117\", \"Not;A=Brand\";v=\"8\", \"Chromium\";v=\"117\"'), ('sec-ch-ua-mobile', '?0'), ('user-agent', 'Mozilla/5.0 (Macintosh; Intel Mac OS X 10_15_7) AppleWebKit/537.36 (KHTML, like Gecko) Chrome/117.0.0.0 Safari/537.36'), ('sec-ch-ua-platform', '\"macOS\"'), ('accept', '*/*'), ('sec-fetch-site', 'same-origin'), ('sec-fetch-mode', 'cors'), ('sec-fetch-dest', 'empty'), ('referer', 'https://duckduckgo.com/'), ('accept-encoding', 'gzip, deflate, br'), ('accept-language', 'en-US,en;q=0.9')], body=b''),\n",
       " Request(method='POST', url='https://improving.duckduckgo.com/t/page_home_searchbox_suggest?1476016&b=chrome&d=d&l=en-US&p=mac&atb=v398-5&pre_va=n&pre_atbva=r&atbi=true&i=false&ak=false&ax=false', headers=[('content-length', '0'), ('sec-ch-ua', '\"Google Chrome\";v=\"117\", \"Not;A=Brand\";v=\"8\", \"Chromium\";v=\"117\"'), ('sec-ch-ua-mobile', '?0'), ('user-agent', 'Mozilla/5.0 (Macintosh; Intel Mac OS X 10_15_7) AppleWebKit/537.36 (KHTML, like Gecko) Chrome/117.0.0.0 Safari/537.36'), ('sec-ch-ua-platform', '\"macOS\"'), ('accept', '*/*'), ('origin', 'https://duckduckgo.com'), ('sec-fetch-site', 'same-site'), ('sec-fetch-mode', 'no-cors'), ('sec-fetch-dest', 'empty'), ('referer', 'https://duckduckgo.com/'), ('accept-encoding', 'gzip, deflate, br'), ('accept-language', 'en-US,en;q=0.9')], body=b'')]"
      ]
     },
     "execution_count": 42,
     "metadata": {},
     "output_type": "execute_result"
    }
   ],
   "source": [
    "driver.requests[-3:]"
   ]
  },
  {
   "cell_type": "markdown",
   "id": "29a7ea68",
   "metadata": {},
   "source": [
    "Above we list the three latest network requests, and find that the url `https://duckduckgo.com/ac/?q=why+are+&kl=wt-wt` seems like its the undocumented API for autocomplete.\n",
    "\n",
    "As you'll soon notice if you repeat this step: requests are being made all the time!"
   ]
  },
  {
   "cell_type": "code",
   "execution_count": 44,
   "id": "0afe2e2a",
   "metadata": {},
   "outputs": [],
   "source": [
    "# You can save a list of them like so:\n",
    "saved_requests = driver.requests"
   ]
  },
  {
   "cell_type": "markdown",
   "id": "c8da8119",
   "metadata": {},
   "source": [
    "You can filter the requests using a [list comprehension](https://www.w3schools.com/python/python_lists_comprehension.asp) (or any other way of sifting through a list)."
   ]
  },
  {
   "cell_type": "code",
   "execution_count": 38,
   "id": "4ee71a62",
   "metadata": {},
   "outputs": [],
   "source": [
    "look_for = 'duckduckgo.com/ac/'"
   ]
  },
  {
   "cell_type": "code",
   "execution_count": 45,
   "id": "fe3f1c20",
   "metadata": {},
   "outputs": [
    {
     "data": {
      "text/plain": [
       "[Request(method='GET', url='https://duckduckgo.com/ac/?q=why&kl=wt-wt', headers=[('sec-ch-ua', '\"Google Chrome\";v=\"117\", \"Not;A=Brand\";v=\"8\", \"Chromium\";v=\"117\"'), ('sec-ch-ua-mobile', '?0'), ('user-agent', 'Mozilla/5.0 (Macintosh; Intel Mac OS X 10_15_7) AppleWebKit/537.36 (KHTML, like Gecko) Chrome/117.0.0.0 Safari/537.36'), ('sec-ch-ua-platform', '\"macOS\"'), ('accept', '*/*'), ('sec-fetch-site', 'same-origin'), ('sec-fetch-mode', 'cors'), ('sec-fetch-dest', 'empty'), ('referer', 'https://duckduckgo.com/'), ('accept-encoding', 'gzip, deflate, br'), ('accept-language', 'en-US,en;q=0.9')], body=b''),\n",
       " Request(method='GET', url='https://duckduckgo.com/ac/?q=why+a&kl=wt-wt', headers=[('sec-ch-ua', '\"Google Chrome\";v=\"117\", \"Not;A=Brand\";v=\"8\", \"Chromium\";v=\"117\"'), ('sec-ch-ua-mobile', '?0'), ('user-agent', 'Mozilla/5.0 (Macintosh; Intel Mac OS X 10_15_7) AppleWebKit/537.36 (KHTML, like Gecko) Chrome/117.0.0.0 Safari/537.36'), ('sec-ch-ua-platform', '\"macOS\"'), ('accept', '*/*'), ('sec-fetch-site', 'same-origin'), ('sec-fetch-mode', 'cors'), ('sec-fetch-dest', 'empty'), ('referer', 'https://duckduckgo.com/'), ('accept-encoding', 'gzip, deflate, br'), ('accept-language', 'en-US,en;q=0.9')], body=b''),\n",
       " Request(method='GET', url='https://duckduckgo.com/ac/?q=why+are&kl=wt-wt', headers=[('sec-ch-ua', '\"Google Chrome\";v=\"117\", \"Not;A=Brand\";v=\"8\", \"Chromium\";v=\"117\"'), ('sec-ch-ua-mobile', '?0'), ('user-agent', 'Mozilla/5.0 (Macintosh; Intel Mac OS X 10_15_7) AppleWebKit/537.36 (KHTML, like Gecko) Chrome/117.0.0.0 Safari/537.36'), ('sec-ch-ua-platform', '\"macOS\"'), ('accept', '*/*'), ('sec-fetch-site', 'same-origin'), ('sec-fetch-mode', 'cors'), ('sec-fetch-dest', 'empty'), ('referer', 'https://duckduckgo.com/'), ('accept-encoding', 'gzip, deflate, br'), ('accept-language', 'en-US,en;q=0.9')], body=b'')]"
      ]
     },
     "execution_count": 45,
     "metadata": {},
     "output_type": "execute_result"
    }
   ],
   "source": [
    "found_requests = [r for r in saved_requests if look_for in r.url]\n",
    "found_requests"
   ]
  },
  {
   "cell_type": "code",
   "execution_count": 48,
   "id": "1bec48c3",
   "metadata": {},
   "outputs": [],
   "source": [
    "last_request = found_requests[-1]\n",
    "response = last_request.response"
   ]
  },
  {
   "cell_type": "markdown",
   "id": "16fe94d0",
   "metadata": {},
   "source": [
    "### Decoding compressed responses\n",
    "The responses are stored as parameters with each request, let's look at the response to the most recent request:"
   ]
  },
  {
   "cell_type": "code",
   "execution_count": 49,
   "id": "c58e75b7",
   "metadata": {},
   "outputs": [
    {
     "data": {
      "text/plain": [
       "Response(status_code=200, reason='', headers=[('server', 'nginx'), ('date', 'Sun, 08 Oct 2023 19:00:13 GMT'), ('content-type', 'application/javascript; charset=UTF-8'), ('vary', 'Accept-Encoding'), ('strict-transport-security', 'max-age=31536000'), ('permissions-policy', 'interest-cohort=()'), ('content-security-policy', \"default-src 'none' ; connect-src  https://duckduckgo.com https://*.duckduckgo.com https://duckduckgogg42xjoc72x3sjasowoarfbgcmvfimaftt6twagswzczad.onion/ ; manifest-src  https://duckduckgo.com https://*.duckduckgo.com https://duckduckgogg42xjoc72x3sjasowoarfbgcmvfimaftt6twagswzczad.onion/ ; media-src  https://duckduckgo.com https://*.duckduckgo.com https://duckduckgogg42xjoc72x3sjasowoarfbgcmvfimaftt6twagswzczad.onion/ ; script-src blob:  https://duckduckgo.com https://*.duckduckgo.com https://duckduckgogg42xjoc72x3sjasowoarfbgcmvfimaftt6twagswzczad.onion/ 'unsafe-inline' 'unsafe-eval' ; font-src data:  https://duckduckgo.com https://*.duckduckgo.com https://duckduckgogg42xjoc72x3sjasowoarfbgcmvfimaftt6twagswzczad.onion/ ; img-src data:  https://duckduckgo.com https://*.duckduckgo.com https://duckduckgogg42xjoc72x3sjasowoarfbgcmvfimaftt6twagswzczad.onion/ ; style-src  https://duckduckgo.com https://*.duckduckgo.com https://duckduckgogg42xjoc72x3sjasowoarfbgcmvfimaftt6twagswzczad.onion/ 'unsafe-inline' ; object-src 'none' ; worker-src blob: ; child-src blob:  https://duckduckgo.com https://*.duckduckgo.com https://duckduckgogg42xjoc72x3sjasowoarfbgcmvfimaftt6twagswzczad.onion/ ; frame-src blob:  https://duckduckgo.com https://*.duckduckgo.com https://duckduckgogg42xjoc72x3sjasowoarfbgcmvfimaftt6twagswzczad.onion/ ; form-action  https://duckduckgo.com https://*.duckduckgo.com https://duckduckgogg42xjoc72x3sjasowoarfbgcmvfimaftt6twagswzczad.onion/ ; frame-ancestors 'self' ; base-uri 'self' ; block-all-mixed-content ;\"), ('x-frame-options', 'SAMEORIGIN'), ('x-xss-protection', '1;mode=block'), ('x-content-type-options', 'nosniff'), ('referrer-policy', 'origin'), ('expect-ct', 'max-age=0'), ('expires', 'Sun, 08 Oct 2023 19:00:12 GMT'), ('cache-control', 'no-cache'), ('content-disposition', 'attachment; filename=\"ac.json\"'), ('x-duckduckgo-privacy-random-ac', 'KKaGpdmkLv5hsArQVxfyla6iy2x7phPdgzFF9y4OEmDQM22jXjpdi63UcafVemongnWfvd7t4M2UHSBfTcTO86FFoVWn5ohN9oS5jB55XQanjiumgc7doNlTKogtb2xuT5RRetED8JP77fOeDytjtWIziK7YreXbqqyctWE5ev63eplZk48OFVBLquPkW4uXD5Y6BNdVH6nVd30zD35NIeU1Lslr5RpgyT6ePASh2uJiH2TDWyqG4OrxMMp8zMmIa3zieb5yeMspNakS1HCgNbcoXfXLWaEYPCJghRLJtQAJXvmDPMLYrwMUbG5XkhCchd8S'), ('content-encoding', 'br')], body=b'\\x15B\\x01\\x00\\xc4\\xca\\xb9\\x94\\xdd\\x89\\xaeP\\xaf,_\\x93\\x0bPa\\xf3@np\\xc0\\x1e\\xf8\\xf2\\xb8\\x8d\\xe3\\x9c\\xe8d;\\x0e8\\xd8\\xa0\\x1b{h\\xb6!zn\\xf6\\xb5\\xe3\\xd7\\xacq\\x17\\xaa9\\x98g|Cv\\xc5.o\\xcc\\xd2\\t.\\xd0\\xd7\\xaa\\x9d\\xe9\\xa1\\xe6?\\xe1m\\r\\x01\\x85%A\\xc8\\xc0\\xfa\\x1b\\xd0\\x84\\x03cq\\xf2\\xae3\\xac\\x0c\\x82VvuX<\\xec\\xdd\\xde\\xdb\\xac;\\xe5A\\x08;\\x84x\\xbc\\xc3\\x8d\\x91[\\xeaa!n\\x86\\xe0\\xb4\\xbd\\x11\\xf3\\x11\\xf0\\xb9\\xd4\\xaa\\xbd\\x99\\xa5]\\x83]\\x88]\\x9d\\xf9\\x9f\\x01')"
      ]
     },
     "execution_count": 49,
     "metadata": {},
     "output_type": "execute_result"
    }
   ],
   "source": [
    "response"
   ]
  },
  {
   "cell_type": "markdown",
   "id": "cedd41a0",
   "metadata": {},
   "source": [
    "We were expecting a list of suggestions but got this instead:"
   ]
  },
  {
   "cell_type": "code",
   "execution_count": 50,
   "id": "32ae7c86",
   "metadata": {},
   "outputs": [
    {
     "data": {
      "text/plain": [
       "b'\\x15B\\x01\\x00\\xc4\\xca\\xb9\\x94\\xdd\\x89\\xaeP\\xaf,_\\x93\\x0bPa\\xf3@np\\xc0\\x1e\\xf8\\xf2\\xb8\\x8d\\xe3\\x9c\\xe8d;\\x0e8\\xd8\\xa0\\x1b{h\\xb6!zn\\xf6\\xb5\\xe3\\xd7\\xacq\\x17\\xaa9\\x98g|Cv\\xc5.o\\xcc\\xd2\\t.\\xd0\\xd7\\xaa\\x9d\\xe9\\xa1\\xe6?\\xe1m\\r\\x01\\x85%A\\xc8\\xc0\\xfa\\x1b\\xd0\\x84\\x03cq\\xf2\\xae3\\xac\\x0c\\x82VvuX<\\xec\\xdd\\xde\\xdb\\xac;\\xe5A\\x08;\\x84x\\xbc\\xc3\\x8d\\x91[\\xeaa!n\\x86\\xe0\\xb4\\xbd\\x11\\xf3\\x11\\xf0\\xb9\\xd4\\xaa\\xbd\\x99\\xa5]\\x83]\\x88]\\x9d\\xf9\\x9f\\x01'"
      ]
     },
     "execution_count": 50,
     "metadata": {},
     "output_type": "execute_result"
    }
   ],
   "source": [
    "response.body"
   ]
  },
  {
   "cell_type": "markdown",
   "id": "fe26d312",
   "metadata": {},
   "source": [
    "The response body looks like this because it's compressed. To actually read it, we will have to decompress it first.\n",
    "\n",
    "We'll use brotli to `decode` the compressed response."
   ]
  },
  {
   "cell_type": "code",
   "execution_count": 51,
   "id": "5acd6efd",
   "metadata": {},
   "outputs": [
    {
     "data": {
      "text/plain": [
       "'[{\"phrase\":\"why are ray bans so expensive\"},{\"phrase\":\"why are eggs so expensive\"},{\"phrase\":\"why are flags at half mast today\"},{\"phrase\":\"why are cats scared of cucumbers\"},{\"phrase\":\"why are gas prices rising\"},{\"phrase\":\"why are flamingos pink\"},{\"phrase\":\"why are my feet swollen\"},{\"phrase\":\"why are firetrucks red\"}]'"
      ]
     },
     "execution_count": 51,
     "metadata": {},
     "output_type": "execute_result"
    }
   ],
   "source": [
    "import brotli\n",
    "\n",
    "decompressed = brotli.decompress(response.body).decode('utf-8')\n",
    "decompressed"
   ]
  },
  {
   "cell_type": "markdown",
   "id": "59ba9383",
   "metadata": {},
   "source": [
    "That's much more like it! We can turn it into a python object using the `json` package:"
   ]
  },
  {
   "cell_type": "code",
   "execution_count": 52,
   "id": "11a92739",
   "metadata": {},
   "outputs": [
    {
     "data": {
      "text/plain": [
       "[{'phrase': 'why are ray bans so expensive'},\n",
       " {'phrase': 'why are eggs so expensive'},\n",
       " {'phrase': 'why are flags at half mast today'},\n",
       " {'phrase': 'why are cats scared of cucumbers'},\n",
       " {'phrase': 'why are gas prices rising'},\n",
       " {'phrase': 'why are flamingos pink'},\n",
       " {'phrase': 'why are my feet swollen'},\n",
       " {'phrase': 'why are firetrucks red'}]"
      ]
     },
     "execution_count": 52,
     "metadata": {},
     "output_type": "execute_result"
    }
   ],
   "source": [
    "import json\n",
    "resp_json = json.loads(decompressed)\n",
    "resp_json"
   ]
  },
  {
   "cell_type": "markdown",
   "id": "4edee539",
   "metadata": {},
   "source": [
    "### Replaying requests\n",
    "\n",
    "We can also re-play any of the intercepted requests using the `requests` package. This way Let's stick to the recent one:"
   ]
  },
  {
   "cell_type": "code",
   "execution_count": 100,
   "id": "0d6c2396",
   "metadata": {},
   "outputs": [
    {
     "data": {
      "text/plain": [
       "[{'phrase': 'why are flags at half mast today'},\n",
       " {'phrase': 'why are cats afraid of cucumber'},\n",
       " {'phrase': 'why are eggs so expensive'},\n",
       " {'phrase': 'why are gas prices rising'},\n",
       " {'phrase': 'why are flamingos pink'},\n",
       " {'phrase': 'why are you interested in this position'},\n",
       " {'phrase': 'why are my balls so itchy'},\n",
       " {'phrase': 'why are you running'}]"
      ]
     },
     "execution_count": 100,
     "metadata": {},
     "output_type": "execute_result"
    }
   ],
   "source": [
    "import requests\n",
    "\n",
    "request = driver.last_request\n",
    "response = requests.get(request)\n",
    "response.json()"
   ]
  },
  {
   "cell_type": "markdown",
   "id": "9c44e6db",
   "metadata": {},
   "source": [
    "We can also modify any of the parameters of the Request before sending it off. Let's change the query from \"why are\" to \"why is\". The query is expressed as a parameter `q` in the URL:\n",
    "\n",
    "[https://duckduckgo.com/ac/?q=why+are+&kl=wt-wt](https://duckduckgo.com/ac/?q=why+are+&kl=wt-wt)\n",
    "\n",
    "for our convenience we can modify the URL parameters by changing the `request.params` dictionary:"
   ]
  },
  {
   "cell_type": "code",
   "execution_count": 102,
   "id": "bb03eb5a",
   "metadata": {},
   "outputs": [
    {
     "data": {
      "text/plain": [
       "{'q': 'why are', 'kl': 'wt-wt'}"
      ]
     },
     "execution_count": 102,
     "metadata": {},
     "output_type": "execute_result"
    }
   ],
   "source": [
    "params = request.params\n",
    "params"
   ]
  },
  {
   "cell_type": "code",
   "execution_count": 103,
   "id": "43853f2f",
   "metadata": {},
   "outputs": [
    {
     "data": {
      "text/plain": [
       "'https://duckduckgo.com/ac/?q=why+is&kl=wt-wt'"
      ]
     },
     "execution_count": 103,
     "metadata": {},
     "output_type": "execute_result"
    }
   ],
   "source": [
    "params['q'] = 'why is'\n",
    "request.params = params\n",
    "request.url"
   ]
  },
  {
   "cell_type": "code",
   "execution_count": 104,
   "id": "de8b6e63",
   "metadata": {},
   "outputs": [
    {
     "data": {
      "text/plain": [
       "[{'phrase': 'why is the sky blue'},\n",
       " {'phrase': 'why is my poop green'},\n",
       " {'phrase': 'why is the sun red'},\n",
       " {'phrase': 'why is the air quality bad today'},\n",
       " {'phrase': 'why is ronaldo benched'},\n",
       " {'phrase': 'why is it important'},\n",
       " {'phrase': 'why is roblox down'},\n",
       " {'phrase': 'why is gail off cbs'}]"
      ]
     },
     "execution_count": 104,
     "metadata": {},
     "output_type": "execute_result"
    }
   ],
   "source": [
    "#request.url = request.url.replace('why+are','why+is')\n",
    "response = requests.get(request)\n",
    "response.json()"
   ]
  },
  {
   "cell_type": "code",
   "execution_count": null,
   "id": "8ef60e27",
   "metadata": {},
   "outputs": [],
   "source": []
  }
 ],
 "metadata": {
  "kernelspec": {
   "display_name": "Python 3",
   "language": "python",
   "name": "python3"
  },
  "language_info": {
   "codemirror_mode": {
    "name": "ipython",
    "version": 3
   },
   "file_extension": ".py",
   "mimetype": "text/x-python",
   "name": "python",
   "nbconvert_exporter": "python",
   "pygments_lexer": "ipython3",
   "version": "3.7.3"
  }
 },
 "nbformat": 4,
 "nbformat_minor": 5
}
