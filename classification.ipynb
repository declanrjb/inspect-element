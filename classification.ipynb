{
 "cells": [
  {
   "cell_type": "markdown",
   "id": "05252b39",
   "metadata": {},
   "source": [
    "---\n",
    "title: \"Classification\"\n",
    "pagetitle: \"Classification\"\n",
    "description-meta: \"Introduction, case studies, and exercises for building classification systems.\"\n",
    "description-title: \"Introduction, case studies, and exercises for building classification systems.\"\n",
    "author: \"Leon Yin\"\n",
    "author-meta: \"Leon Yin\"\n",
    "date: \"07-27-2023\"\n",
    "date-modified: \"07-27-2023\"\n",
    "bibliography: references.bib\n",
    "execute: \n",
    "  enabled: false\n",
    "keywords: classifications\n",
    "twitter-card:\n",
    "  title: Classification\n",
    "  description: Introduction, case studies, and exercises for classification.\n",
    "  image: assets/inspect-element-logo.jpg\n",
    "open-graph:\n",
    "  title: Classification\n",
    "  description: Introduction, case studies, and exercises for classification.\n",
    "  locale: us_EN\n",
    "  site-name: Inspect Element\n",
    "  image: assets/inspect-element-logo.jpg\n",
    "href: classification\n",
    "---"
   ]
  },
  {
   "cell_type": "code",
   "execution_count": null,
   "id": "8da241ee",
   "metadata": {},
   "outputs": [],
   "source": [
    "#| echo: false\n",
    "from utils import build_buttons\n",
    "build_buttons(link= 'apis', \n",
    "              github= 'https://github.com/yinleon/inspect-element/blob/main/apis.ipynb', \n",
    "              citation= True)"
   ]
  },
  {
   "cell_type": "markdown",
   "id": "11c344cb",
   "metadata": {},
   "source": [
    "# Intro\n",
    "\n",
    "In Dante's _Inferno_, the 14th century Italian poet portrays hell as nine unique layers (or circles). Dante builds on the concept of [contrapasso](https://en.wikipedia.org/wiki/Contrapasso)-- a punishment befitting the crime, for which damned souls are sent to a specific layer of hell based on their crimes.\n",
    "\n",
    "The eighth circle is designated for frauds, which included soothsayers and diviners. For spending their lives only looking ahead towards the future, they had their heads turned backwards so they could only look behind them. "
   ]
  },
  {
   "cell_type": "markdown",
   "id": "c91812ce",
   "metadata": {},
   "source": [
    "<figure>\n",
    "<img src=\"assets/dante.jpg\" style=\"width:75%\">\n",
    "<figcaption align = \"left\" style=\"font-size:80%;\"> The Map of Hell painting by Sandro Botticelli.</figcaption>\n",
    "</figure>"
   ]
  },
  {
   "cell_type": "markdown",
   "id": "e5014a09",
   "metadata": {},
   "source": [
    "By doing organizing the damned by their crimes, Dante produced a classification system.\n",
    "\n",
    "Although you probably won't be producing a system to punish souls for eternety, you will inevitably encounter the need to produce your own categorization system for an investigation. \n",
    "\n",
    "If it's not something you plan for, you too might find yourself in hell."
   ]
  },
  {
   "cell_type": "markdown",
   "id": "9ca63c7f",
   "metadata": {},
   "source": [
    "## Why is classification necessary?\n",
    "\n",
    "Classification is more of an art or craft, than a science. \n",
    "\n",
    "In any case, you will need a combination of quantatative skills such as...\n",
    "\n",
    "- inspecting source code\n",
    "- reading documentation\n",
    "- exploratory data analysis and\n",
    "\n",
    "qualatative skills such as...\n",
    "\n",
    "- interviewing domain experts\n",
    "- reading the literature\n",
    "\n",
    "Similarly, your classification can be based on quanatites that can be measured (think of naming ranges, or thresholds), or qualities (usually a \"yes\" or \"no\").\n",
    "\n",
    "An example for quantative classification is how the atmosphere is organized into layers based thermal characteristics."
   ]
  },
  {
   "cell_type": "markdown",
   "id": "69e304cf",
   "metadata": {},
   "source": [
    "\n",
    "<figure>\n",
    "<img src=\"assets/lower layers of the atmosphere.jpg\" style=\"width:50%\">\n",
    "<figcaption align = \"left\" style=\"font-size:80%;\"> Layers of the atmosphere. Source: <a href=\"https://www.noaa.gov/jetstream/atmosphere/layers-of-atmosphere\">NOAA</a></figcaption>\n",
    "</figure>"
   ]
  },
  {
   "cell_type": "markdown",
   "id": "d5e87310",
   "metadata": {},
   "source": [
    "Scientists discovered the lower atmospheric layers using weather baloons.\n",
    "\n",
    "A quantative example is whether or not a photo contains a Chihuahua or a Muffin."
   ]
  },
  {
   "cell_type": "markdown",
   "id": "7ddd2d6e",
   "metadata": {},
   "source": [
    "## Case Studies\n",
    "\n",
    "### Google associates \"Black girls\" with porn\n",
    "\n",
    "In this investigation Aaron Sankin and I tried to reproduce Safiya Noble's work on Google Search in Google Ads.\n",
    "\n",
    "To do this we queried a marketing tool called Keyword Manager with search terms to see related terms.\n",
    "\n",
    "We found that searches for \"black girls\", \"latina girls\", \"asian girls\" returned majority pornographic results. We determined this using a two-step categorization process.\n",
    "\n",
    "The first involved making the same search again with Google's \"adult ideas\" filter turned off. By Google's own admission, more than half of results were \"adult ideas\". However, after reviewing the remaining search terms it was clear that the filter was not completely effective. To check, we ran the remaining terms through Google Search and confirmed that the majority of the searches returned results that mention \"porn\" in the description."
   ]
  },
  {
   "cell_type": "markdown",
   "id": "ee8fd5c1",
   "metadata": {},
   "source": [
    "<figure>\n",
    "<img src=\"assets/google_ads_black_girls.png\" style=\"width:75%\">\n",
    "<figcaption align = \"left\" style=\"font-size:80%;\"> The results re-calcualted with different categorization systems to bucket race/ethnicity and income.</figcaption>\n",
    "</figure>"
   ]
  },
  {
   "cell_type": "markdown",
   "id": "d8ee8889",
   "metadata": {},
   "source": [
    "\n",
    "Build off your investigation target's own definitions when possible, but find ways to supplement those with additional information. Ultimately, our supplement was another product from Google."
   ]
  },
  {
   "cell_type": "markdown",
   "id": "59a69c9e",
   "metadata": {},
   "source": [
    "## Check your work\n",
    "\n",
    "If you're concerned that your classification system is biased and would skew your results, one thing you can do is re-calculate the same statistics with differing categorization systems. This is one way to bulletproof your work, especially if changes are negligable between classification systems.\n",
    "\n",
    "\n",
    "https://themarkup.org/show-your-work/2022/10/19/how-we-uncovered-disparities-in-internet-deals#different-categorization-systems\n",
    "\n",
    "https://themarkup.org/google-the-giant/2020/07/28/how-we-analyzed-google-search-results-web-assay-parsing-tool#google-search-interp\n",
    "\n"
   ]
  },
  {
   "cell_type": "markdown",
   "id": "5964caa4",
   "metadata": {},
   "source": [
    "<figure>\n",
    "<img src=\"assets/categorization_delta.png\" style=\"width:80%\">\n",
    "<figcaption align = \"left\" style=\"font-size:80%;\"> The results re-calcualted with different categorization systems to bucket race/ethnicity and income.</figcaption>\n",
    "</figure>"
   ]
  },
  {
   "cell_type": "code",
   "execution_count": null,
   "id": "8b0e3189",
   "metadata": {},
   "outputs": [],
   "source": []
  }
 ],
 "metadata": {
  "kernelspec": {
   "display_name": "Python 3",
   "language": "python",
   "name": "python3"
  },
  "language_info": {
   "codemirror_mode": {
    "name": "ipython",
    "version": 3
   },
   "file_extension": ".py",
   "mimetype": "text/x-python",
   "name": "python",
   "nbconvert_exporter": "python",
   "pygments_lexer": "ipython3",
   "version": "3.7.3"
  }
 },
 "nbformat": 4,
 "nbformat_minor": 5
}
